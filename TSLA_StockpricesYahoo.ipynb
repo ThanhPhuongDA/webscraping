{
  "nbformat": 4,
  "nbformat_minor": 0,
  "metadata": {
    "colab": {
      "provenance": [],
      "authorship_tag": "ABX9TyMsRdyc6PLA4rXgxo88SME7",
      "include_colab_link": true
    },
    "kernelspec": {
      "name": "python3",
      "display_name": "Python 3"
    },
    "language_info": {
      "name": "python"
    }
  },
  "cells": [
    {
      "cell_type": "markdown",
      "metadata": {
        "id": "view-in-github",
        "colab_type": "text"
      },
      "source": [
        "<a href=\"https://colab.research.google.com/github/ThanhPhuongDA/webscraping/blob/main/TSLA_StockpricesYahoo.ipynb\" target=\"_parent\"><img src=\"https://colab.research.google.com/assets/colab-badge.svg\" alt=\"Open In Colab\"/></a>"
      ]
    },
    {
      "cell_type": "markdown",
      "source": [
        "Import libraries"
      ],
      "metadata": {
        "id": "t9V9kpPiZK1l"
      }
    },
    {
      "cell_type": "code",
      "source": [
        "import time\n",
        "import datetime\n",
        "import pandas as pd\n",
        "import matplotlib.pyplot as plt\n"
      ],
      "metadata": {
        "id": "7McgCAb0ZMUl"
      },
      "execution_count": 1,
      "outputs": []
    },
    {
      "cell_type": "markdown",
      "source": [
        "Work with TESLA stock (TSLA) and choose the time period that you want to get data of TESLA stock prices from Yahoo Finance"
      ],
      "metadata": {
        "id": "T8RsljKmZQcf"
      }
    },
    {
      "cell_type": "code",
      "source": [
        "ticker = 'TSLA'\n",
        "period1 = int(time.mktime(datetime.datetime(2021,1,1,23,59).timetuple()))\n",
        "period2 = int(time.mktime(datetime.datetime(2022,12,31,23,59).timetuple()))\n",
        "interval = '1wk'"
      ],
      "metadata": {
        "id": "65jBzHDwRvw1"
      },
      "execution_count": 2,
      "outputs": []
    },
    {
      "cell_type": "markdown",
      "source": [
        "Call the query string"
      ],
      "metadata": {
        "id": "QXpq5EJDZaii"
      }
    },
    {
      "cell_type": "code",
      "source": [
        "query_string = f'https://query1.finance.yahoo.com/v7/finance/download/{ticker}?period1={period1}&period2={period2}&interval={interval}&events=history&includeAdjustedClose=true'"
      ],
      "metadata": {
        "id": "sflePNVXKhYt"
      },
      "execution_count": 3,
      "outputs": []
    },
    {
      "cell_type": "code",
      "source": [
        "print(query_string)"
      ],
      "metadata": {
        "colab": {
          "base_uri": "https://localhost:8080/"
        },
        "id": "JaOAI5x7Khi1",
        "outputId": "5cc8aa07-eff5-431d-fa79-6dd5f8a0e66a"
      },
      "execution_count": 4,
      "outputs": [
        {
          "output_type": "stream",
          "name": "stdout",
          "text": [
            "https://query1.finance.yahoo.com/v7/finance/download/TSLA?period1=1609545540&period2=1672531140&interval=1wk&events=history&includeAdjustedClose=true\n"
          ]
        }
      ]
    },
    {
      "cell_type": "markdown",
      "source": [
        "Read the file in CSV format"
      ],
      "metadata": {
        "id": "E1Op96gHZwFi"
      }
    },
    {
      "cell_type": "code",
      "source": [
        "df = pd.read_csv(query_string)\n",
        "print(df.head())"
      ],
      "metadata": {
        "colab": {
          "base_uri": "https://localhost:8080/"
        },
        "id": "rgASjixLS_Ip",
        "outputId": "bdb4f157-ffca-4773-f915-203848f1a95e"
      },
      "execution_count": 5,
      "outputs": [
        {
          "output_type": "stream",
          "name": "stdout",
          "text": [
            "         Date        Open        High         Low       Close   Adj Close  \\\n",
            "0  2021-01-01  239.820007  272.329987  239.063339  272.013336  272.013336   \n",
            "1  2021-01-08  285.333344  294.829987  267.873322  281.666656  281.666656   \n",
            "2  2021-01-15  284.000000  286.633331  273.033325  281.663330  281.663330   \n",
            "3  2021-01-22  278.103333  300.133331  267.000000  278.476654  278.476654   \n",
            "4  2021-01-29  276.666656  293.500000  260.033325  283.329987  283.329987   \n",
            "\n",
            "      Volume  \n",
            "0  531246900  \n",
            "1  735619800  \n",
            "2  330994800  \n",
            "3  414250500  \n",
            "4  356653800  \n"
          ]
        }
      ]
    },
    {
      "cell_type": "code",
      "source": [
        "df.columns"
      ],
      "metadata": {
        "colab": {
          "base_uri": "https://localhost:8080/"
        },
        "id": "6ekh9JwecXOq",
        "outputId": "dbf00149-9e1d-40ab-9468-e0e7193d8be8"
      },
      "execution_count": 6,
      "outputs": [
        {
          "output_type": "execute_result",
          "data": {
            "text/plain": [
              "Index(['Date', 'Open', 'High', 'Low', 'Close', 'Adj Close', 'Volume'], dtype='object')"
            ]
          },
          "metadata": {},
          "execution_count": 6
        }
      ]
    },
    {
      "cell_type": "code",
      "source": [
        "df['Change'] = df.apply(lambda x: x['Adj Close'] - x['Open'], axis=1)\n",
        "\n"
      ],
      "metadata": {
        "id": "UnjnOPpibRuh"
      },
      "execution_count": 7,
      "outputs": []
    },
    {
      "cell_type": "code",
      "source": [
        "df['%Change'] = df.apply(lambda x: round((x['Change']/ x['Open'])*100,2), axis=1)"
      ],
      "metadata": {
        "id": "L7EE0RKMeMl3"
      },
      "execution_count": 8,
      "outputs": []
    },
    {
      "cell_type": "code",
      "source": [
        "print(df.head())"
      ],
      "metadata": {
        "colab": {
          "base_uri": "https://localhost:8080/"
        },
        "id": "qOt7KuD7i6NC",
        "outputId": "4ab1dc3d-5b77-412e-dc71-68ad758c3492"
      },
      "execution_count": 9,
      "outputs": [
        {
          "output_type": "stream",
          "name": "stdout",
          "text": [
            "         Date        Open        High         Low       Close   Adj Close  \\\n",
            "0  2021-01-01  239.820007  272.329987  239.063339  272.013336  272.013336   \n",
            "1  2021-01-08  285.333344  294.829987  267.873322  281.666656  281.666656   \n",
            "2  2021-01-15  284.000000  286.633331  273.033325  281.663330  281.663330   \n",
            "3  2021-01-22  278.103333  300.133331  267.000000  278.476654  278.476654   \n",
            "4  2021-01-29  276.666656  293.500000  260.033325  283.329987  283.329987   \n",
            "\n",
            "      Volume     Change  %Change  \n",
            "0  531246900  32.193329    13.42  \n",
            "1  735619800  -3.666688    -1.29  \n",
            "2  330994800  -2.336670    -0.82  \n",
            "3  414250500   0.373321     0.13  \n",
            "4  356653800   6.663331     2.41  \n"
          ]
        }
      ]
    },
    {
      "cell_type": "markdown",
      "source": [
        "Export to CSV file in your local computer\n"
      ],
      "metadata": {
        "id": "9L0Qm57ijl5J"
      }
    },
    {
      "cell_type": "code",
      "source": [
        "df.to_csv(r'C:\\Users\\PHUONG\\Desktop\\Tesla stock price 2022.csv', index=False, header=True)"
      ],
      "metadata": {
        "id": "Y3P67fLUdEMd"
      },
      "execution_count": 10,
      "outputs": []
    },
    {
      "cell_type": "code",
      "source": [
        "df.shape"
      ],
      "metadata": {
        "colab": {
          "base_uri": "https://localhost:8080/"
        },
        "id": "6Abv4vh7iTXT",
        "outputId": "106f3609-683c-41d8-b8e2-30cd8e5d60be"
      },
      "execution_count": 11,
      "outputs": [
        {
          "output_type": "execute_result",
          "data": {
            "text/plain": [
              "(105, 9)"
            ]
          },
          "metadata": {},
          "execution_count": 11
        }
      ]
    },
    {
      "cell_type": "code",
      "source": [
        "# Changing the datatype\n",
        "\n",
        "df[\"Date\"] = df[\"Date\"].astype(\"datetime64\")\n",
        " \n",
        "# Setting the Date as index\n",
        "\n",
        "df = df.set_index(\"Date\")\n",
        "df"
      ],
      "metadata": {
        "colab": {
          "base_uri": "https://localhost:8080/",
          "height": 455
        },
        "id": "k4fUHTw1gNcK",
        "outputId": "31c91aa5-98af-41fb-dca8-4771f14c444b"
      },
      "execution_count": 12,
      "outputs": [
        {
          "output_type": "execute_result",
          "data": {
            "text/plain": [
              "                  Open        High         Low       Close   Adj Close  \\\n",
              "Date                                                                     \n",
              "2021-01-01  239.820007  272.329987  239.063339  272.013336  272.013336   \n",
              "2021-01-08  285.333344  294.829987  267.873322  281.666656  281.666656   \n",
              "2021-01-15  284.000000  286.633331  273.033325  281.663330  281.663330   \n",
              "2021-01-22  278.103333  300.133331  267.000000  278.476654  278.476654   \n",
              "2021-01-29  276.666656  293.500000  260.033325  283.329987  283.329987   \n",
              "...                ...         ...         ...         ...         ...   \n",
              "2022-12-02  191.779999  196.250000  169.059998  173.440002  173.440002   \n",
              "2022-12-09  173.839996  182.500000  153.279999  157.669998  157.669998   \n",
              "2022-12-16  159.639999  160.990005  122.260002  125.349998  125.349998   \n",
              "2022-12-23  126.370003  128.619995  108.239998  121.820000  121.820000   \n",
              "2022-12-30  119.949997  124.480003  119.750000  123.180000  123.180000   \n",
              "\n",
              "               Volume     Change  %Change  \n",
              "Date                                       \n",
              "2021-01-01  531246900  32.193329    13.42  \n",
              "2021-01-08  735619800  -3.666688    -1.29  \n",
              "2021-01-15  330994800  -2.336670    -0.82  \n",
              "2021-01-22  414250500   0.373321     0.13  \n",
              "2021-01-29  356653800   6.663331     2.41  \n",
              "...               ...        ...      ...  \n",
              "2022-12-02  440757200 -18.339997    -9.56  \n",
              "2022-12-09  653546300 -16.169998    -9.30  \n",
              "2022-12-16  793493800 -34.290001   -21.48  \n",
              "2022-12-23  818626900  -4.550003    -3.60  \n",
              "2022-12-30  157304500   3.230003     2.69  \n",
              "\n",
              "[105 rows x 8 columns]"
            ],
            "text/html": [
              "\n",
              "  <div id=\"df-92e38f08-b8e8-488a-a1c3-e8e23e31f38b\">\n",
              "    <div class=\"colab-df-container\">\n",
              "      <div>\n",
              "<style scoped>\n",
              "    .dataframe tbody tr th:only-of-type {\n",
              "        vertical-align: middle;\n",
              "    }\n",
              "\n",
              "    .dataframe tbody tr th {\n",
              "        vertical-align: top;\n",
              "    }\n",
              "\n",
              "    .dataframe thead th {\n",
              "        text-align: right;\n",
              "    }\n",
              "</style>\n",
              "<table border=\"1\" class=\"dataframe\">\n",
              "  <thead>\n",
              "    <tr style=\"text-align: right;\">\n",
              "      <th></th>\n",
              "      <th>Open</th>\n",
              "      <th>High</th>\n",
              "      <th>Low</th>\n",
              "      <th>Close</th>\n",
              "      <th>Adj Close</th>\n",
              "      <th>Volume</th>\n",
              "      <th>Change</th>\n",
              "      <th>%Change</th>\n",
              "    </tr>\n",
              "    <tr>\n",
              "      <th>Date</th>\n",
              "      <th></th>\n",
              "      <th></th>\n",
              "      <th></th>\n",
              "      <th></th>\n",
              "      <th></th>\n",
              "      <th></th>\n",
              "      <th></th>\n",
              "      <th></th>\n",
              "    </tr>\n",
              "  </thead>\n",
              "  <tbody>\n",
              "    <tr>\n",
              "      <th>2021-01-01</th>\n",
              "      <td>239.820007</td>\n",
              "      <td>272.329987</td>\n",
              "      <td>239.063339</td>\n",
              "      <td>272.013336</td>\n",
              "      <td>272.013336</td>\n",
              "      <td>531246900</td>\n",
              "      <td>32.193329</td>\n",
              "      <td>13.42</td>\n",
              "    </tr>\n",
              "    <tr>\n",
              "      <th>2021-01-08</th>\n",
              "      <td>285.333344</td>\n",
              "      <td>294.829987</td>\n",
              "      <td>267.873322</td>\n",
              "      <td>281.666656</td>\n",
              "      <td>281.666656</td>\n",
              "      <td>735619800</td>\n",
              "      <td>-3.666688</td>\n",
              "      <td>-1.29</td>\n",
              "    </tr>\n",
              "    <tr>\n",
              "      <th>2021-01-15</th>\n",
              "      <td>284.000000</td>\n",
              "      <td>286.633331</td>\n",
              "      <td>273.033325</td>\n",
              "      <td>281.663330</td>\n",
              "      <td>281.663330</td>\n",
              "      <td>330994800</td>\n",
              "      <td>-2.336670</td>\n",
              "      <td>-0.82</td>\n",
              "    </tr>\n",
              "    <tr>\n",
              "      <th>2021-01-22</th>\n",
              "      <td>278.103333</td>\n",
              "      <td>300.133331</td>\n",
              "      <td>267.000000</td>\n",
              "      <td>278.476654</td>\n",
              "      <td>278.476654</td>\n",
              "      <td>414250500</td>\n",
              "      <td>0.373321</td>\n",
              "      <td>0.13</td>\n",
              "    </tr>\n",
              "    <tr>\n",
              "      <th>2021-01-29</th>\n",
              "      <td>276.666656</td>\n",
              "      <td>293.500000</td>\n",
              "      <td>260.033325</td>\n",
              "      <td>283.329987</td>\n",
              "      <td>283.329987</td>\n",
              "      <td>356653800</td>\n",
              "      <td>6.663331</td>\n",
              "      <td>2.41</td>\n",
              "    </tr>\n",
              "    <tr>\n",
              "      <th>...</th>\n",
              "      <td>...</td>\n",
              "      <td>...</td>\n",
              "      <td>...</td>\n",
              "      <td>...</td>\n",
              "      <td>...</td>\n",
              "      <td>...</td>\n",
              "      <td>...</td>\n",
              "      <td>...</td>\n",
              "    </tr>\n",
              "    <tr>\n",
              "      <th>2022-12-02</th>\n",
              "      <td>191.779999</td>\n",
              "      <td>196.250000</td>\n",
              "      <td>169.059998</td>\n",
              "      <td>173.440002</td>\n",
              "      <td>173.440002</td>\n",
              "      <td>440757200</td>\n",
              "      <td>-18.339997</td>\n",
              "      <td>-9.56</td>\n",
              "    </tr>\n",
              "    <tr>\n",
              "      <th>2022-12-09</th>\n",
              "      <td>173.839996</td>\n",
              "      <td>182.500000</td>\n",
              "      <td>153.279999</td>\n",
              "      <td>157.669998</td>\n",
              "      <td>157.669998</td>\n",
              "      <td>653546300</td>\n",
              "      <td>-16.169998</td>\n",
              "      <td>-9.30</td>\n",
              "    </tr>\n",
              "    <tr>\n",
              "      <th>2022-12-16</th>\n",
              "      <td>159.639999</td>\n",
              "      <td>160.990005</td>\n",
              "      <td>122.260002</td>\n",
              "      <td>125.349998</td>\n",
              "      <td>125.349998</td>\n",
              "      <td>793493800</td>\n",
              "      <td>-34.290001</td>\n",
              "      <td>-21.48</td>\n",
              "    </tr>\n",
              "    <tr>\n",
              "      <th>2022-12-23</th>\n",
              "      <td>126.370003</td>\n",
              "      <td>128.619995</td>\n",
              "      <td>108.239998</td>\n",
              "      <td>121.820000</td>\n",
              "      <td>121.820000</td>\n",
              "      <td>818626900</td>\n",
              "      <td>-4.550003</td>\n",
              "      <td>-3.60</td>\n",
              "    </tr>\n",
              "    <tr>\n",
              "      <th>2022-12-30</th>\n",
              "      <td>119.949997</td>\n",
              "      <td>124.480003</td>\n",
              "      <td>119.750000</td>\n",
              "      <td>123.180000</td>\n",
              "      <td>123.180000</td>\n",
              "      <td>157304500</td>\n",
              "      <td>3.230003</td>\n",
              "      <td>2.69</td>\n",
              "    </tr>\n",
              "  </tbody>\n",
              "</table>\n",
              "<p>105 rows × 8 columns</p>\n",
              "</div>\n",
              "      <button class=\"colab-df-convert\" onclick=\"convertToInteractive('df-92e38f08-b8e8-488a-a1c3-e8e23e31f38b')\"\n",
              "              title=\"Convert this dataframe to an interactive table.\"\n",
              "              style=\"display:none;\">\n",
              "        \n",
              "  <svg xmlns=\"http://www.w3.org/2000/svg\" height=\"24px\"viewBox=\"0 0 24 24\"\n",
              "       width=\"24px\">\n",
              "    <path d=\"M0 0h24v24H0V0z\" fill=\"none\"/>\n",
              "    <path d=\"M18.56 5.44l.94 2.06.94-2.06 2.06-.94-2.06-.94-.94-2.06-.94 2.06-2.06.94zm-11 1L8.5 8.5l.94-2.06 2.06-.94-2.06-.94L8.5 2.5l-.94 2.06-2.06.94zm10 10l.94 2.06.94-2.06 2.06-.94-2.06-.94-.94-2.06-.94 2.06-2.06.94z\"/><path d=\"M17.41 7.96l-1.37-1.37c-.4-.4-.92-.59-1.43-.59-.52 0-1.04.2-1.43.59L10.3 9.45l-7.72 7.72c-.78.78-.78 2.05 0 2.83L4 21.41c.39.39.9.59 1.41.59.51 0 1.02-.2 1.41-.59l7.78-7.78 2.81-2.81c.8-.78.8-2.07 0-2.86zM5.41 20L4 18.59l7.72-7.72 1.47 1.35L5.41 20z\"/>\n",
              "  </svg>\n",
              "      </button>\n",
              "      \n",
              "  <style>\n",
              "    .colab-df-container {\n",
              "      display:flex;\n",
              "      flex-wrap:wrap;\n",
              "      gap: 12px;\n",
              "    }\n",
              "\n",
              "    .colab-df-convert {\n",
              "      background-color: #E8F0FE;\n",
              "      border: none;\n",
              "      border-radius: 50%;\n",
              "      cursor: pointer;\n",
              "      display: none;\n",
              "      fill: #1967D2;\n",
              "      height: 32px;\n",
              "      padding: 0 0 0 0;\n",
              "      width: 32px;\n",
              "    }\n",
              "\n",
              "    .colab-df-convert:hover {\n",
              "      background-color: #E2EBFA;\n",
              "      box-shadow: 0px 1px 2px rgba(60, 64, 67, 0.3), 0px 1px 3px 1px rgba(60, 64, 67, 0.15);\n",
              "      fill: #174EA6;\n",
              "    }\n",
              "\n",
              "    [theme=dark] .colab-df-convert {\n",
              "      background-color: #3B4455;\n",
              "      fill: #D2E3FC;\n",
              "    }\n",
              "\n",
              "    [theme=dark] .colab-df-convert:hover {\n",
              "      background-color: #434B5C;\n",
              "      box-shadow: 0px 1px 3px 1px rgba(0, 0, 0, 0.15);\n",
              "      filter: drop-shadow(0px 1px 2px rgba(0, 0, 0, 0.3));\n",
              "      fill: #FFFFFF;\n",
              "    }\n",
              "  </style>\n",
              "\n",
              "      <script>\n",
              "        const buttonEl =\n",
              "          document.querySelector('#df-92e38f08-b8e8-488a-a1c3-e8e23e31f38b button.colab-df-convert');\n",
              "        buttonEl.style.display =\n",
              "          google.colab.kernel.accessAllowed ? 'block' : 'none';\n",
              "\n",
              "        async function convertToInteractive(key) {\n",
              "          const element = document.querySelector('#df-92e38f08-b8e8-488a-a1c3-e8e23e31f38b');\n",
              "          const dataTable =\n",
              "            await google.colab.kernel.invokeFunction('convertToInteractive',\n",
              "                                                     [key], {});\n",
              "          if (!dataTable) return;\n",
              "\n",
              "          const docLinkHtml = 'Like what you see? Visit the ' +\n",
              "            '<a target=\"_blank\" href=https://colab.research.google.com/notebooks/data_table.ipynb>data table notebook</a>'\n",
              "            + ' to learn more about interactive tables.';\n",
              "          element.innerHTML = '';\n",
              "          dataTable['output_type'] = 'display_data';\n",
              "          await google.colab.output.renderOutput(dataTable, element);\n",
              "          const docLink = document.createElement('div');\n",
              "          docLink.innerHTML = docLinkHtml;\n",
              "          element.appendChild(docLink);\n",
              "        }\n",
              "      </script>\n",
              "    </div>\n",
              "  </div>\n",
              "  "
            ]
          },
          "metadata": {},
          "execution_count": 12
        }
      ]
    },
    {
      "cell_type": "code",
      "source": [
        "# Create figure\n",
        "\n",
        "fig = plt.figure(figsize=(12, 10))\n",
        "plt.plot(df[\"Adj Close\"], marker='o',linewidth=2.0)\n",
        "\n",
        "plt.xlabel(\"Date\")\n",
        "plt.ylabel(\"Adjusted Closed price\")\n",
        "plt.title(\"TESLA prices over last 2 years 2021-2022\")\n",
        "\n",
        "# Display\n",
        "\n",
        "plt.show()"
      ],
      "metadata": {
        "colab": {
          "base_uri": "https://localhost:8080/",
          "height": 621
        },
        "id": "Bm1saVWPaqGz",
        "outputId": "44d38301-463e-4251-b8a8-36fdc224789c"
      },
      "execution_count": 13,
      "outputs": [
        {
          "output_type": "display_data",
          "data": {
            "text/plain": [
              "<Figure size 864x720 with 1 Axes>"
            ],
            "image/png": "[encoded data removed]"
          },
          "metadata": {
            "needs_background": "light"
          }
        }
      ]
    }
  ]
}