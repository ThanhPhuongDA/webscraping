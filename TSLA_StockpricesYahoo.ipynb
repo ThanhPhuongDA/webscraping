{
  "nbformat": 4,
  "nbformat_minor": 0,
  "metadata": {
    "colab": {
      "provenance": [],
      "authorship_tag": "ABX9TyMWztQP4yIXneYHvhI83yee",
      "include_colab_link": true
    },
    "kernelspec": {
      "name": "python3",
      "display_name": "Python 3"
    },
    "language_info": {
      "name": "python"
    }
  },
  "cells": [
    {
      "cell_type": "markdown",
      "metadata": {
        "id": "view-in-github",
        "colab_type": "text"
      },
      "source": [
        "<a href=\"https://colab.research.google.com/github/ThanhPhuongDA/webscraping/blob/main/TSLA_StockpricesYahoo.ipynb\" target=\"_parent\"><img src=\"https://colab.research.google.com/assets/colab-badge.svg\" alt=\"Open In Colab\"/></a>"
      ]
    },
    {
      "cell_type": "markdown",
      "source": [
        "Import libraries"
      ],
      "metadata": {
        "id": "t9V9kpPiZK1l"
      }
    },
    {
      "cell_type": "code",
      "source": [
        "import time\n",
        "import datetime\n",
        "import pandas as pd"
      ],
      "metadata": {
        "id": "7McgCAb0ZMUl"
      },
      "execution_count": 1,
      "outputs": []
    },
    {
      "cell_type": "markdown",
      "source": [
        "Work with TESLA stock (TSLA) and choose the time period that you want to get data of TESLA stock prices from Yahoo Finance"
      ],
      "metadata": {
        "id": "T8RsljKmZQcf"
      }
    },
    {
      "cell_type": "code",
      "source": [
        "ticker = 'TSLA'\n",
        "period1 = int(time.mktime(datetime.datetime(2021,12,1,23,59).timetuple()))\n",
        "period2 = int(time.mktime(datetime.datetime(2021,12,31,23,59).timetuple()))\n",
        "interval = '1wk'"
      ],
      "metadata": {
        "id": "65jBzHDwRvw1"
      },
      "execution_count": 2,
      "outputs": []
    },
    {
      "cell_type": "markdown",
      "source": [
        "Call the query string"
      ],
      "metadata": {
        "id": "QXpq5EJDZaii"
      }
    },
    {
      "cell_type": "code",
      "source": [
        "query_string = f'https://query1.finance.yahoo.com/v7/finance/download/{ticker}?period1={period1}&period2={period2}&interval={interval}&events=history&includeAdjustedClose=true'"
      ],
      "metadata": {
        "id": "sflePNVXKhYt"
      },
      "execution_count": 3,
      "outputs": []
    },
    {
      "cell_type": "code",
      "source": [
        "print(query_string)"
      ],
      "metadata": {
        "colab": {
          "base_uri": "https://localhost:8080/"
        },
        "id": "JaOAI5x7Khi1",
        "outputId": "ac1270c5-080c-4ca1-a01e-454c51da2c67"
      },
      "execution_count": 4,
      "outputs": [
        {
          "output_type": "stream",
          "name": "stdout",
          "text": [
            "https://query1.finance.yahoo.com/v7/finance/download/TSLA?period1=1638403140&period2=1640995140&interval=1wk&events=history&includeAdjustedClose=true\n"
          ]
        }
      ]
    },
    {
      "cell_type": "markdown",
      "source": [
        "Read the file in CSV format"
      ],
      "metadata": {
        "id": "E1Op96gHZwFi"
      }
    },
    {
      "cell_type": "code",
      "source": [
        "df = pd.read_csv(query_string)\n",
        "print(df)"
      ],
      "metadata": {
        "colab": {
          "base_uri": "https://localhost:8080/"
        },
        "id": "rgASjixLS_Ip",
        "outputId": "a5fb3e3b-9540-4160-a6ee-75f68901027a"
      },
      "execution_count": 5,
      "outputs": [
        {
          "output_type": "stream",
          "name": "stdout",
          "text": [
            "         Date        Open        High         Low       Close   Adj Close  \\\n",
            "0  2021-11-29  386.899994  390.946655  333.403320  338.323334  338.323334   \n",
            "1  2021-12-06  333.836670  357.459991  316.833344  339.010010  339.010010   \n",
            "2  2021-12-13  333.696655  335.000000  303.013336  310.856659  310.856659   \n",
            "3  2021-12-20  303.566681  357.660004  295.373322  355.666656  355.666656   \n",
            "4  2021-12-27  357.890015  373.000000  351.049988  352.260010  352.260010   \n",
            "\n",
            "      Volume  \n",
            "0  233887200  \n",
            "1  298756800  \n",
            "2  407779800  \n",
            "3  314345400  \n",
            "4  275398500  \n"
          ]
        }
      ]
    },
    {
      "cell_type": "markdown",
      "source": [
        "Export to CSV file in your local computer"
      ],
      "metadata": {
        "id": "G1ap4nxVZzLA"
      }
    },
    {
      "cell_type": "code",
      "source": [
        "df.to_csv(r'C:\\Users\\PHUONG\\Desktop\\Tesla stock price 2022.csv', index=False, header=True)"
      ],
      "metadata": {
        "id": "IyLwc31-S_OD"
      },
      "execution_count": 6,
      "outputs": []
    },
    {
      "cell_type": "code",
      "source": [
        "print(df)"
      ],
      "metadata": {
        "colab": {
          "base_uri": "https://localhost:8080/"
        },
        "id": "CCRatInpV3EK",
        "outputId": "e432307e-25f3-4709-b4e4-daf388ae0cc5"
      },
      "execution_count": 7,
      "outputs": [
        {
          "output_type": "stream",
          "name": "stdout",
          "text": [
            "         Date        Open        High         Low       Close   Adj Close  \\\n",
            "0  2021-11-29  386.899994  390.946655  333.403320  338.323334  338.323334   \n",
            "1  2021-12-06  333.836670  357.459991  316.833344  339.010010  339.010010   \n",
            "2  2021-12-13  333.696655  335.000000  303.013336  310.856659  310.856659   \n",
            "3  2021-12-20  303.566681  357.660004  295.373322  355.666656  355.666656   \n",
            "4  2021-12-27  357.890015  373.000000  351.049988  352.260010  352.260010   \n",
            "\n",
            "      Volume  \n",
            "0  233887200  \n",
            "1  298756800  \n",
            "2  407779800  \n",
            "3  314345400  \n",
            "4  275398500  \n"
          ]
        }
      ]
    },
    {
      "cell_type": "markdown",
      "source": [
        "Read the saved file"
      ],
      "metadata": {
        "id": "9GgbLhuiZ5vp"
      }
    },
    {
      "cell_type": "code",
      "source": [
        "df_saved_file = pd.read_csv('Tesla stock price 2022.csv')\n",
        "df_saved_file\n"
      ],
      "metadata": {
        "colab": {
          "base_uri": "https://localhost:8080/",
          "height": 206
        },
        "id": "YF4lwRN1XsZ4",
        "outputId": "1f3a6a31-0865-42d6-e10b-646acc8a533d"
      },
      "execution_count": 8,
      "outputs": [
        {
          "output_type": "execute_result",
          "data": {
            "text/plain": [
              "   Unnamed: 0        Date        Open        High         Low       Close  \\\n",
              "0           0  2021-11-29  386.899994  390.946655  333.403320  338.323334   \n",
              "1           1  2021-12-06  333.836670  357.459991  316.833344  339.010010   \n",
              "2           2  2021-12-13  333.696655  335.000000  303.013336  310.856659   \n",
              "3           3  2021-12-20  303.566681  357.660004  295.373322  355.666656   \n",
              "4           4  2021-12-27  357.890015  373.000000  351.049988  352.260010   \n",
              "\n",
              "    Adj Close     Volume  \n",
              "0  338.323334  233887200  \n",
              "1  339.010010  298756800  \n",
              "2  310.856659  407779800  \n",
              "3  355.666656  314345400  \n",
              "4  352.260010  275398500  "
            ],
            "text/html": [
              "\n",
              "  <div id=\"df-6e0e2150-e958-493b-b011-4df9b123a869\">\n",
              "    <div class=\"colab-df-container\">\n",
              "      <div>\n",
              "<style scoped>\n",
              "    .dataframe tbody tr th:only-of-type {\n",
              "        vertical-align: middle;\n",
              "    }\n",
              "\n",
              "    .dataframe tbody tr th {\n",
              "        vertical-align: top;\n",
              "    }\n",
              "\n",
              "    .dataframe thead th {\n",
              "        text-align: right;\n",
              "    }\n",
              "</style>\n",
              "<table border=\"1\" class=\"dataframe\">\n",
              "  <thead>\n",
              "    <tr style=\"text-align: right;\">\n",
              "      <th></th>\n",
              "      <th>Unnamed: 0</th>\n",
              "      <th>Date</th>\n",
              "      <th>Open</th>\n",
              "      <th>High</th>\n",
              "      <th>Low</th>\n",
              "      <th>Close</th>\n",
              "      <th>Adj Close</th>\n",
              "      <th>Volume</th>\n",
              "    </tr>\n",
              "  </thead>\n",
              "  <tbody>\n",
              "    <tr>\n",
              "      <th>0</th>\n",
              "      <td>0</td>\n",
              "      <td>2021-11-29</td>\n",
              "      <td>386.899994</td>\n",
              "      <td>390.946655</td>\n",
              "      <td>333.403320</td>\n",
              "      <td>338.323334</td>\n",
              "      <td>338.323334</td>\n",
              "      <td>233887200</td>\n",
              "    </tr>\n",
              "    <tr>\n",
              "      <th>1</th>\n",
              "      <td>1</td>\n",
              "      <td>2021-12-06</td>\n",
              "      <td>333.836670</td>\n",
              "      <td>357.459991</td>\n",
              "      <td>316.833344</td>\n",
              "      <td>339.010010</td>\n",
              "      <td>339.010010</td>\n",
              "      <td>298756800</td>\n",
              "    </tr>\n",
              "    <tr>\n",
              "      <th>2</th>\n",
              "      <td>2</td>\n",
              "      <td>2021-12-13</td>\n",
              "      <td>333.696655</td>\n",
              "      <td>335.000000</td>\n",
              "      <td>303.013336</td>\n",
              "      <td>310.856659</td>\n",
              "      <td>310.856659</td>\n",
              "      <td>407779800</td>\n",
              "    </tr>\n",
              "    <tr>\n",
              "      <th>3</th>\n",
              "      <td>3</td>\n",
              "      <td>2021-12-20</td>\n",
              "      <td>303.566681</td>\n",
              "      <td>357.660004</td>\n",
              "      <td>295.373322</td>\n",
              "      <td>355.666656</td>\n",
              "      <td>355.666656</td>\n",
              "      <td>314345400</td>\n",
              "    </tr>\n",
              "    <tr>\n",
              "      <th>4</th>\n",
              "      <td>4</td>\n",
              "      <td>2021-12-27</td>\n",
              "      <td>357.890015</td>\n",
              "      <td>373.000000</td>\n",
              "      <td>351.049988</td>\n",
              "      <td>352.260010</td>\n",
              "      <td>352.260010</td>\n",
              "      <td>275398500</td>\n",
              "    </tr>\n",
              "  </tbody>\n",
              "</table>\n",
              "</div>\n",
              "      <button class=\"colab-df-convert\" onclick=\"convertToInteractive('df-6e0e2150-e958-493b-b011-4df9b123a869')\"\n",
              "              title=\"Convert this dataframe to an interactive table.\"\n",
              "              style=\"display:none;\">\n",
              "        \n",
              "  <svg xmlns=\"http://www.w3.org/2000/svg\" height=\"24px\"viewBox=\"0 0 24 24\"\n",
              "       width=\"24px\">\n",
              "    <path d=\"M0 0h24v24H0V0z\" fill=\"none\"/>\n",
              "    <path d=\"M18.56 5.44l.94 2.06.94-2.06 2.06-.94-2.06-.94-.94-2.06-.94 2.06-2.06.94zm-11 1L8.5 8.5l.94-2.06 2.06-.94-2.06-.94L8.5 2.5l-.94 2.06-2.06.94zm10 10l.94 2.06.94-2.06 2.06-.94-2.06-.94-.94-2.06-.94 2.06-2.06.94z\"/><path d=\"M17.41 7.96l-1.37-1.37c-.4-.4-.92-.59-1.43-.59-.52 0-1.04.2-1.43.59L10.3 9.45l-7.72 7.72c-.78.78-.78 2.05 0 2.83L4 21.41c.39.39.9.59 1.41.59.51 0 1.02-.2 1.41-.59l7.78-7.78 2.81-2.81c.8-.78.8-2.07 0-2.86zM5.41 20L4 18.59l7.72-7.72 1.47 1.35L5.41 20z\"/>\n",
              "  </svg>\n",
              "      </button>\n",
              "      \n",
              "  <style>\n",
              "    .colab-df-container {\n",
              "      display:flex;\n",
              "      flex-wrap:wrap;\n",
              "      gap: 12px;\n",
              "    }\n",
              "\n",
              "    .colab-df-convert {\n",
              "      background-color: #E8F0FE;\n",
              "      border: none;\n",
              "      border-radius: 50%;\n",
              "      cursor: pointer;\n",
              "      display: none;\n",
              "      fill: #1967D2;\n",
              "      height: 32px;\n",
              "      padding: 0 0 0 0;\n",
              "      width: 32px;\n",
              "    }\n",
              "\n",
              "    .colab-df-convert:hover {\n",
              "      background-color: #E2EBFA;\n",
              "      box-shadow: 0px 1px 2px rgba(60, 64, 67, 0.3), 0px 1px 3px 1px rgba(60, 64, 67, 0.15);\n",
              "      fill: #174EA6;\n",
              "    }\n",
              "\n",
              "    [theme=dark] .colab-df-convert {\n",
              "      background-color: #3B4455;\n",
              "      fill: #D2E3FC;\n",
              "    }\n",
              "\n",
              "    [theme=dark] .colab-df-convert:hover {\n",
              "      background-color: #434B5C;\n",
              "      box-shadow: 0px 1px 3px 1px rgba(0, 0, 0, 0.15);\n",
              "      filter: drop-shadow(0px 1px 2px rgba(0, 0, 0, 0.3));\n",
              "      fill: #FFFFFF;\n",
              "    }\n",
              "  </style>\n",
              "\n",
              "      <script>\n",
              "        const buttonEl =\n",
              "          document.querySelector('#df-6e0e2150-e958-493b-b011-4df9b123a869 button.colab-df-convert');\n",
              "        buttonEl.style.display =\n",
              "          google.colab.kernel.accessAllowed ? 'block' : 'none';\n",
              "\n",
              "        async function convertToInteractive(key) {\n",
              "          const element = document.querySelector('#df-6e0e2150-e958-493b-b011-4df9b123a869');\n",
              "          const dataTable =\n",
              "            await google.colab.kernel.invokeFunction('convertToInteractive',\n",
              "                                                     [key], {});\n",
              "          if (!dataTable) return;\n",
              "\n",
              "          const docLinkHtml = 'Like what you see? Visit the ' +\n",
              "            '<a target=\"_blank\" href=https://colab.research.google.com/notebooks/data_table.ipynb>data table notebook</a>'\n",
              "            + ' to learn more about interactive tables.';\n",
              "          element.innerHTML = '';\n",
              "          dataTable['output_type'] = 'display_data';\n",
              "          await google.colab.output.renderOutput(dataTable, element);\n",
              "          const docLink = document.createElement('div');\n",
              "          docLink.innerHTML = docLinkHtml;\n",
              "          element.appendChild(docLink);\n",
              "        }\n",
              "      </script>\n",
              "    </div>\n",
              "  </div>\n",
              "  "
            ]
          },
          "metadata": {},
          "execution_count": 8
        }
      ]
    }
  ]
}